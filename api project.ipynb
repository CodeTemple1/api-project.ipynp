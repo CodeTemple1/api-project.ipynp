{
 "cells": [
  {
   "cell_type": "code",
   "execution_count": null,
   "id": "5d95bfc7",
   "metadata": {},
   "outputs": [],
   "source": [
    "class Users(Resource):\n",
    "    def post(self):\n",
    "        parser = reqparse.RequestParser()  # initialize\n",
    "        \n",
    "        parser.add_argument('userId', required=True)  # add args\n",
    "        parser.add_argument('name', required=True)\n",
    "        parser.add_argument('city', required=True)\n",
    "        \n",
    "        args = parser.parse_args()  # parse arguments to dictionary\n",
    "        \n",
    "        # create new dataframe containing new values\n",
    "        new_data = pd.DataFrame({\n",
    "            'userId': args['userId'],\n",
    "            'name': args['name'],\n",
    "            'city': args['city'],\n",
    "            'locations': [[]]\n",
    "        })\n",
    "        # read our CSV\n",
    "        data = pd.read_csv('users.csv')\n",
    "        # add the newly provided values\n",
    "        data = data.append(new_data, ignore_index=True)\n",
    "        # save back to CSV\n",
    "        data.to_csv('users.csv', index=False)\n",
    "        return {'data': data.to_dict()}, 200  # return data with 2"
   ]
  }
 ],
 "metadata": {
  "kernelspec": {
   "display_name": "Python 3",
   "language": "python",
   "name": "python3"
  },
  "language_info": {
   "codemirror_mode": {
    "name": "ipython",
    "version": 3
   },
   "file_extension": ".py",
   "mimetype": "text/x-python",
   "name": "python",
   "nbconvert_exporter": "python",
   "pygments_lexer": "ipython3",
   "version": "3.8.8"
  }
 },
 "nbformat": 4,
 "nbformat_minor": 5
}
